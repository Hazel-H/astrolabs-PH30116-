{
 "cells": [
  {
   "cell_type": "markdown",
   "metadata": {},
   "source": [
    "# Chapter 3: Introduction to your Kepler science lightcurve"
   ]
  },
  {
   "cell_type": "markdown",
   "metadata": {},
   "source": [
    "### This Notebook will give you the tools to:\n",
    "\n",
    "$\\bullet$ open Kepler science lighcurves\n",
    "\n",
    "$\\bullet$ understand data structure in fits files\n",
    "\n",
    "$\\bullet$ understand basic features of data\n",
    "\n",
    "$\\bullet$ start with fitting your dataset\n",
    "\n",
    "### What you should achieve:\n",
    "\n",
    "$\\bullet$ plot and inspect data\n",
    "\n",
    "$\\bullet$ identify transits\n",
    "\n",
    "$\\bullet$ make a plan for modelling\n",
    "\n",
    "### What's next:\n",
    "after you have completed this notebook:\n",
    "\n",
    "$\\bullet$ perform detailed modelling of your data\n",
    "\n",
    "$\\bullet$ write up the summary of your modelling\n",
    "\n",
    "$\\bullet$ collect your results for the comparison with other datasets"
   ]
  },
  {
   "cell_type": "code",
   "execution_count": 1,
   "metadata": {},
   "outputs": [],
   "source": [
    "#Necessary imports\n",
    "from astropy.io import fits #used to open fits files in which data are stored\n",
    "import pylab #plotting\n",
    "import glob\n",
    "#add here the source number assigned to you, '1' or '2'\n",
    "#Dagon & Dimidium are '1'\n",
    "#Osiris & Proxima b are '2'\n",
    "mykepler = '1' "
   ]
  },
  {
   "cell_type": "markdown",
   "metadata": {},
   "source": [
    "First, we will have a look at the dataset, we have given you the fits dataset exactly as provided by Kepler, you can download additional datasets [on the Kepler archive](https://archive.stsci.edu/kepler/). We have though made the header anonymous so you cannot see which source you are working with. "
   ]
  },
  {
   "cell_type": "code",
   "execution_count": 2,
   "metadata": {},
   "outputs": [],
   "source": [
    "#Fits files are open like this:\n",
    "lc = fits.open('Data/Object%slc/kplr%s_1.fits'%(mykepler, mykepler))"
   ]
  },
  {
   "cell_type": "markdown",
   "metadata": {},
   "source": [
    "Fits files are common in astrophysics, they have different extensions, which can be images or tables. The information discribing the data is stored in the header."
   ]
  },
  {
   "cell_type": "code",
   "execution_count": 3,
   "metadata": {},
   "outputs": [
    {
     "data": {
      "text/plain": [
       "[<astropy.io.fits.hdu.image.PrimaryHDU object at 0x116563198>, <astropy.io.fits.hdu.table.BinTableHDU object at 0x116582978>, <astropy.io.fits.hdu.image.ImageHDU object at 0x116f49b00>]"
      ]
     },
     "execution_count": 3,
     "metadata": {},
     "output_type": "execute_result"
    }
   ],
   "source": [
    "lc"
   ]
  },
  {
   "cell_type": "code",
   "execution_count": 4,
   "metadata": {},
   "outputs": [
    {
     "data": {
      "text/plain": [
       "SIMPLE  =                    T / conforms to FITS standards                     \n",
       "BITPIX  =                    8 / array data type                                \n",
       "NAXIS   =                    0 / number of array dimensions                     \n",
       "EXTEND  =                    T / file contains extensions                       \n",
       "NEXTEND =                    2 / number of standard extensions                  \n",
       "EXTNAME = 'PRIMARY '           / name of extension                              \n",
       "EXTVER  =                    1 / extension version number (not format version)  \n",
       "ORIGIN  = 'NASA/Ames'          / institution responsible for creating this file \n",
       "DATE    = '2015-09-09'         / file creation date.                            \n",
       "CREATOR = '826467 FluxExporter2PipelineModule' / pipeline job and program used t\n",
       "PROCVER = 'svn+ssh://murzim/repo/soc/tags/release/9.3.22 r60269' / SW version   \n",
       "FILEVER = '6.1     '           / file format version                            \n",
       "TIMVERSN= 'OGIP/93-003'        / OGIP memo number for file format               \n",
       "TELESCOP= 'Kepler  '           / telescope                                      \n",
       "INSTRUME= 'Kepler Photometer'  / detector type                                  \n",
       "OBJECT  = 'None of your business' / string version of target id                 \n",
       "KEPLERID= 'None of your business' / unique Kepler target identifier             \n",
       "CHANNEL =                   58 / CCD channel                                    \n",
       "SKYGROUP=                   66 / roll-independent location of channel           \n",
       "MODULE  =                   17 / CCD module                                     \n",
       "OUTPUT  =                    2 / CCD output                                     \n",
       "QUARTER =                    3 / Observing quarter                              \n",
       "SEASON  =                    1 / mission season during which data was collected \n",
       "DATA_REL=                   25 / data release version number                    \n",
       "OBSMODE = 'long cadence'       / observing mode                                 \n",
       "MISSION = 'Kepler  '           / Mission name                                   \n",
       "TTABLEID=                   26 / target table id                                \n",
       "RADESYS = 'ICRS    '           / reference frame of celestial coordinates       \n",
       "RA_OBJ  = 'None of your business' / [deg] right ascension                       \n",
       "DEC_OBJ = 'None of your business' / [deg] declination                           \n",
       "EQUINOX =               2000.0 / equinox of celestial coordinate system         \n",
       "PMRA    =               0.0977 / [arcsec/yr] RA proper motion                   \n",
       "PMDEC   =              -0.6316 / [arcsec/yr] Dec proper motion                  \n",
       "PMTOTAL =               0.6391 / [arcsec/yr] total proper motion                \n",
       "PARALLAX=               0.0282 / [arcsec] parallax                              \n",
       "GLON    = 'None of your business' / [deg] galactic longitude                    \n",
       "GLAT    = 'None of your business' / [deg] galactic latitude                     \n",
       "GMAG    =                9.664 / [mag] SDSS g band magnitude                    \n",
       "RMAG    =                8.837 / [mag] SDSS r band magnitude                    \n",
       "IMAG    =                      / [mag] SDSS i band magnitude                    \n",
       "ZMAG    =                      / [mag] SDSS z band magnitude                    \n",
       "D51MAG  =                      / [mag] D51 magnitude,                           \n",
       "JMAG    =                7.244 / [mag] J band magnitude from 2MASS              \n",
       "HMAG    =                6.772 / [mag] H band magnitude from 2MASS              \n",
       "KMAG    =                6.703 / [mag] K band magnitude from 2MASS              \n",
       "KEPMAG  =                8.717 / [mag] Kepler magnitude (Kp)                    \n",
       "GRCOLOR =                0.827 / [mag] (g-r) color, SDSS bands                  \n",
       "JKCOLOR =                0.541 / [mag] (J-K) color, 2MASS bands                 \n",
       "GKCOLOR =                2.961 / [mag] (g-K) color, SDSS g - 2MASS K            \n",
       "TEFF    =                 5032 / [K] Effective temperature                      \n",
       "LOGG    =                4.683 / [cm/s2] log10 surface gravity                  \n",
       "FEH     =               -0.960 / [log10([Fe/H])]  metallicity                   \n",
       "EBMINUSV=                      / [mag] E(B-V) reddening                         \n",
       "AV      =                      / [mag] A_v extinction                           \n",
       "RADIUS  =                0.593 / [solar radii] stellar radius                   \n",
       "TMINDEX = 'None of your business' / unique 2MASS catalog ID                     \n",
       "SCPID   =                      / unique SCP processing ID                       \n",
       "CHECKSUM= 'Z5gJd5g9Z5gGd5g9'   / HDU checksum updated 2020-10-22T21:20:06       \n",
       "DATASUM = '0       '           / data unit checksum updated 2020-10-22T21:20:06 "
      ]
     },
     "execution_count": 4,
     "metadata": {},
     "output_type": "execute_result"
    }
   ],
   "source": [
    "#The header for the first extension can be accesses like this:\n",
    "lc[0].header\n",
    "#It contains basic information about the object (some of those removed here)"
   ]
  },
  {
   "cell_type": "markdown",
   "metadata": {},
   "source": [
    "**You will see some of the header keywords to read 'None of your business', this is because we have anonymized the dataset for you. "
   ]
  },
  {
   "cell_type": "code",
   "execution_count": 5,
   "metadata": {},
   "outputs": [],
   "source": [
    "#the data in the extension can be stored like this:\n",
    "lc[0].data\n",
    "#the first extension is empty, it just has the information\n"
   ]
  },
  {
   "cell_type": "code",
   "execution_count": 6,
   "metadata": {},
   "outputs": [
    {
     "data": {
      "text/plain": [
       "<matplotlib.image.AxesImage at 0x11701a710>"
      ]
     },
     "execution_count": 6,
     "metadata": {},
     "output_type": "execute_result"
    },
    {
     "data": {
      "image/png": "[encoded data removed]",
      "text/plain": [
       "<Figure size 432x288 with 1 Axes>"
      ]
     },
     "metadata": {
      "needs_background": "light"
     },
     "output_type": "display_data"
    }
   ],
   "source": [
    "#The last extension holds a small image of the source:\n",
    "lc[2].header\n",
    "pylab.imshow(lc[2].data)"
   ]
  },
  {
   "cell_type": "code",
   "execution_count": 7,
   "metadata": {},
   "outputs": [
    {
     "data": {
      "text/plain": [
       "<astropy.io.fits.hdu.table.BinTableHDU at 0x116582978>"
      ]
     },
     "execution_count": 7,
     "metadata": {},
     "output_type": "execute_result"
    }
   ],
   "source": [
    "#lets have a look at the second extension\n",
    "lc[1]\n",
    "#This is a table extension"
   ]
  },
  {
   "cell_type": "code",
   "execution_count": 8,
   "metadata": {},
   "outputs": [
    {
     "data": {
      "text/plain": [
       "XTENSION= 'BINTABLE'           / marks the beginning of a new HDU               \n",
       "BITPIX  =                    8 / array data type                                \n",
       "NAXIS   =                    2 / number of array dimensions                     \n",
       "NAXIS1  =                  100 / length of first array dimension                \n",
       "NAXIS2  =                 4370 / length of second array dimension               \n",
       "PCOUNT  =                    0 / group parameter count (not used)               \n",
       "GCOUNT  =                    1 / group count (not used)                         \n",
       "TFIELDS =                   20 / number of table fields                         \n",
       "TTYPE1  = 'TIME    '           / column title: data time stamps                 \n",
       "TFORM1  = 'D       '           / column format: 64-bit floating point           \n",
       "TUNIT1  = 'BJD - 2454833'      / column units: barycenter corrected JD          \n",
       "TDISP1  = 'D14.7   '           / column display format                          \n",
       "TTYPE2  = 'TIMECORR'           / column title: barycenter - timeslice correction\n",
       "TFORM2  = 'E       '           / column format: 32-bit floating point           \n",
       "TUNIT2  = 'd       '           / column units: day                              \n",
       "TDISP2  = 'E13.6   '           / column display format                          \n",
       "TTYPE3  = 'CADENCENO'          / column title: unique cadence number            \n",
       "TFORM3  = 'J       '           / column format: signed 32-bit integer           \n",
       "TDISP3  = 'I10     '           / column display format                          \n",
       "TTYPE4  = 'SAP_FLUX'           / column title: aperture photometry flux         \n",
       "TFORM4  = 'E       '           / column format: 32-bit floating point           \n",
       "TUNIT4  = 'e-/s    '           / column units: electrons per second             \n",
       "TDISP4  = 'E14.7   '           / column display format                          \n",
       "TTYPE5  = 'SAP_FLUX_ERR'       / column title: aperture phot. flux error        \n",
       "TFORM5  = 'E       '           / column format: 32-bit floating point           \n",
       "TUNIT5  = 'e-/s    '           / column units: electrons per second (1-sigma)   \n",
       "TDISP5  = 'E14.7   '           / column display format                          \n",
       "TTYPE6  = 'SAP_BKG '           / column title: aperture phot. background flux   \n",
       "TFORM6  = 'E       '           / column format: 32-bit floating point           \n",
       "TUNIT6  = 'e-/s    '           / column units: electrons per second             \n",
       "TDISP6  = 'E14.7   '           / column display format                          \n",
       "TTYPE7  = 'SAP_BKG_ERR'        / column title: ap. phot. background flux error  \n",
       "TFORM7  = 'E       '           / column format: 32-bit floating point           \n",
       "TUNIT7  = 'e-/s    '           / column units: electrons per second (1-sigma)   \n",
       "TDISP7  = 'E14.7   '           / column display format                          \n",
       "TTYPE8  = 'PDCSAP_FLUX'        / column title: aperture phot. PDC flux          \n",
       "TFORM8  = 'E       '           / column format: 32-bit floating point           \n",
       "TUNIT8  = 'e-/s    '           / column units: electrons per second             \n",
       "TDISP8  = 'E14.7   '           / column display format                          \n",
       "TTYPE9  = 'PDCSAP_FLUX_ERR'    / column title: ap. phot. PDC flux error         \n",
       "TFORM9  = 'E       '           / column format: 32-bit floating point           \n",
       "TUNIT9  = 'e-/s    '           / column units: electrons per second (1-sigma)   \n",
       "TDISP9  = 'E14.7   '           / column display format                          \n",
       "TTYPE10 = 'SAP_QUALITY'        / column title: aperture photometry quality flag \n",
       "TFORM10 = 'J       '           / column format: signed 32-bit integer           \n",
       "TDISP10 = 'B16.16  '           / column display format                          \n",
       "TTYPE11 = 'PSF_CENTR1'         / column title: PSF-fitted column centroid       \n",
       "TFORM11 = 'D       '           / column format: 64-bit floating point           \n",
       "TUNIT11 = 'pixel   '           / column units: pixel                            \n",
       "TDISP11 = 'F10.5   '           / column display format                          \n",
       "TTYPE12 = 'PSF_CENTR1_ERR'     / column title: PSF-fitted column error          \n",
       "TFORM12 = 'E       '           / column format: 32-bit floating point           \n",
       "TUNIT12 = 'pixel   '           / column units: pixel (1-sigma)                  \n",
       "TDISP12 = 'E14.7   '           / column display format                          \n",
       "TTYPE13 = 'PSF_CENTR2'         / column title: PSF-fitted row centroid          \n",
       "TFORM13 = 'D       '           / column format: 64-bit floating point           \n",
       "TUNIT13 = 'pixel   '           / column units: pixel                            \n",
       "TDISP13 = 'F10.5   '           / column display format                          \n",
       "TTYPE14 = 'PSF_CENTR2_ERR'     / column title: PSF-fitted row error             \n",
       "TFORM14 = 'E       '           / column format: 32-bit floating point           \n",
       "TUNIT14 = 'pixel   '           / column units: pixel (1-sigma)                  \n",
       "TDISP14 = 'E14.7   '           / column display format                          \n",
       "TTYPE15 = 'MOM_CENTR1'         / column title: moment-derived column centroid   \n",
       "TFORM15 = 'D       '           / column format: 64-bit floating point           \n",
       "TUNIT15 = 'pixel   '           / column units: pixel                            \n",
       "TDISP15 = 'F10.5   '           / column display format                          \n",
       "TTYPE16 = 'MOM_CENTR1_ERR'     / column title: moment-derived column error      \n",
       "TFORM16 = 'E       '           / column format: 32-bit floating point           \n",
       "TUNIT16 = 'pixel   '           / column units: pixel (1-sigma)                  \n",
       "TDISP16 = 'E14.7   '           / column display format                          \n",
       "TTYPE17 = 'MOM_CENTR2'         / column title: moment-derived row centroid      \n",
       "TFORM17 = 'D       '           / column format: 64-bit floating point           \n",
       "TUNIT17 = 'pixel   '           / column units: pixel                            \n",
       "TDISP17 = 'F10.5   '           / column display format                          \n",
       "TTYPE18 = 'MOM_CENTR2_ERR'     / column title: moment-derived row error         \n",
       "TFORM18 = 'E       '           / column format: 32-bit floating point           \n",
       "TUNIT18 = 'pixel   '           / column units: pixel (1-sigma)                  \n",
       "TDISP18 = 'E14.7   '           / column display format                          \n",
       "TTYPE19 = 'POS_CORR1'          / column title: column position correction       \n",
       "TFORM19 = 'E       '           / column format: 32-bit floating point           \n",
       "TUNIT19 = 'pixels  '           / column units: pixel                            \n",
       "TDISP19 = 'E14.7   '           / column display format                          \n",
       "TTYPE20 = 'POS_CORR2'          / column title: row position correction          \n",
       "TFORM20 = 'E       '           / column format: 32-bit floating point           \n",
       "TUNIT20 = 'pixels  '           / column units: pixel                            \n",
       "TDISP20 = 'E14.7   '           / column display format                          \n",
       "INHERIT =                    T / inherit the primary header                     \n",
       "EXTNAME = 'LIGHTCURVE'         / name of extension                              \n",
       "EXTVER  =                    1 / extension version number (not format version)  \n",
       "TELESCOP= 'Kepler  '           / telescope                                      \n",
       "INSTRUME= 'Kepler Photometer'  / detector type                                  \n",
       "OBJECT  = 'None of your business' / string version of target id                 \n",
       "KEPLERID= 'None of your business' / unique Kepler target identifier             \n",
       "RADESYS = 'ICRS    '           / reference frame of celestial coordinates       \n",
       "RA_OBJ  = 'None of your business' / [deg] right ascension                       \n",
       "DEC_OBJ = 'None of your business' / [deg] declination                           \n",
       "EQUINOX =               2000.0 / equinox of celestial coordinate system         \n",
       "EXPOSURE=          82.20448264 / [d] time on source                             \n",
       "TIMEREF = 'SOLARSYSTEM'        / barycentric correction applied to times        \n",
       "TASSIGN = 'SPACECRAFT'         / where time is assigned                         \n",
       "TIMESYS = 'TDB     '           / time system is barycentric JD                  \n",
       "BJDREFI =              2454833 / integer part of BJD reference date             \n",
       "BJDREFF =           0.00000000 / fraction of the day in BJD reference date      \n",
       "TIMEUNIT= 'd       '           / time unit for TIME, TSTART and TSTOP           \n",
       "TELAPSE =          89.29107597 / [d] TSTOP - TSTART                             \n",
       "LIVETIME=          82.20448264 / [d] TELAPSE multiplied by DEADC                \n",
       "TSTART  =         260.21458377 / observation start time in BJD-BJDREF           \n",
       "TSTOP   =         349.50565974 / observation stop time in BJD-BJDREF            \n",
       "LC_START=       55092.72220972 / mid point of first cadence in MJD              \n",
       "LC_END  =       55181.99659822 / mid point of last cadence in MJD               \n",
       "DEADC   =           0.92063492 / deadtime correction                            \n",
       "TIMEPIXR=                  0.5 / bin time beginning=0 middle=0.5 end=1          \n",
       "TIERRELA=             5.78E-07 / [d] relative time error                        \n",
       "TIERABSO=                      / [d] absolute time error                        \n",
       "INT_TIME=       6.019802903270 / [s] photon accumulation time per frame         \n",
       "READTIME=       0.518948526144 / [s] readout time per frame                     \n",
       "FRAMETIM=       6.538751429414 / [s] frame time (INT_TIME + READTIME)           \n",
       "NUM_FRM =                  270 / number of frames per time stamp                \n",
       "TIMEDEL =     0.02043359821692 / [d] time resolution of data                    \n",
       "DATE-OBS= '2009-09-18T17:05:16.190Z' / TSTART as UTC calendar date              \n",
       "DATE-END= '2009-12-17T00:09:48.815Z' / TSTOP as UTC calendar date               \n",
       "BACKAPP =                    T / background is subtracted                       \n",
       "DEADAPP =                    T / deadtime applied                               \n",
       "VIGNAPP =                    T / vignetting or collimator correction applied    \n",
       "GAIN    =               108.41 / [electrons/count] channel gain                 \n",
       "READNOIS=           120.627807 / [electrons] read noise                         \n",
       "NREADOUT=                  270 / number of read per cadence                     \n",
       "TIMSLICE=                    2 / time-slice readout sequence section            \n",
       "MEANBLCK=                  719 / [count] FSW mean black level                   \n",
       "LCFXDOFF=               419400 / long cadence fixed offset                      \n",
       "SCFXDOFF=               219400 / short cadence fixed offset                     \n",
       "CDPP3_0 =    43.70698165893555 / [ppm] RMS CDPP on 3.0-hr time scales           \n",
       "CDPP6_0 =   39.878257751464844 / [ppm] RMS CDPP on 6.0-hr time scales           \n",
       "CDPP12_0=    38.25374221801758 / [ppm] RMS CDPP on 12.0-hr time scales          \n",
       "CROWDSAP=               0.9699 / Ratio of target flux to total flux in op. ap.  \n",
       "FLFRCSAP=               0.9739 / Frac. of target flux w/in the op. aperture     \n",
       "NSPSDDET=                    0 / Number of SPSDs detected                       \n",
       "NSPSDCOR=                    0 / Number of SPSDs corrected                      \n",
       "PDCVAR  =   15.531881332397461 / Target variability                             \n",
       "PDCMETHD= 'multiScaleMap'      / PDC algorithm used for target                  \n",
       "NUMBAND =                    3 / Number of scale bands                          \n",
       "FITTYPE1= 'robust  '           / Fit type used for band 1                       \n",
       "PR_GOOD1=   0.9629853367805481 / Prior goodness for band 1                      \n",
       "PR_WGHT1=                  0.0 / Prior weight for band 1                        \n",
       "FITTYPE2= 'prior   '           / Fit type used for band 2                       \n",
       "PR_GOOD2=   0.9534187316894531 / Prior goodness for band 2                      \n",
       "PR_WGHT2=      5211.4462890625 / Prior weight for band 2                        \n",
       "FITTYPE3= 'prior   '           / Fit type used for band 3                       \n",
       "PR_GOOD3=   0.9841877818107605 / Prior goodness for band 3                      \n",
       "PR_WGHT3=      5379.6318359375 / Prior weight for band 3                        \n",
       "PDC_TOT =   0.6819634437561035 / PDC total goodness metric for target           \n",
       "PDC_TOTP=    0.569871187210083 / PDC_TOT percentile compared to mod/out         \n",
       "PDC_COR =    0.958440363407135 / PDC correlation goodness metric for target     \n",
       "PDC_CORP=      5.8449387550354 / PDC_COR percentile compared to mod/out         \n",
       "PDC_VAR =   0.9757041931152344 / PDC variability goodness metric for target     \n",
       "PDC_VARP=    8.815482139587402 / PDC_VAR percentile compared to mod/out         \n",
       "PDC_NOI =   0.8625790476799011 / PDC noise goodness metric for target           \n",
       "PDC_NOIP=    50.50416946411133 / PDC_NOI percentile compared to mod/out         \n",
       "PDC_EPT =   0.9934418797492981 / PDC earth point goodness metric for target     \n",
       "PDC_EPTP=    62.56157684326172 / PDC_EPT percentile compared to mod/out         \n",
       "CHECKSUM= 'i4dnl2bni2bni2bn'   / HDU checksum updated 2020-10-22T21:20:06       \n",
       "DATASUM = '1971614890'         / data unit checksum updated 2020-10-22T21:20:06 "
      ]
     },
     "execution_count": 8,
     "metadata": {},
     "output_type": "execute_result"
    }
   ],
   "source": [
    "#Here the beginning has a description of columns in the table, including the units\n",
    "lc[1].header"
   ]
  },
  {
   "cell_type": "code",
   "execution_count": 9,
   "metadata": {},
   "outputs": [
    {
     "data": {
      "text/plain": [
       "[<matplotlib.lines.Line2D at 0x117111908>]"
      ]
     },
     "execution_count": 9,
     "metadata": {},
     "output_type": "execute_result"
    },
    {
     "data": {
      "image/png": "[encoded data removed]",
      "text/plain": [
       "<Figure size 432x288 with 1 Axes>"
      ]
     },
     "metadata": {
      "needs_background": "light"
     },
     "output_type": "display_data"
    }
   ],
   "source": [
    "#Lets plot the lightcurve, you can plot the time and flux:\n",
    "pylab.plot(lc[1].data['TIME'], lc[1].data['PDCSAP_FLUX'], ls='None', marker='o')\n",
    "#This plots the barycentre time and flux in e/s\n"
   ]
  },
  {
   "cell_type": "markdown",
   "metadata": {},
   "source": [
    "## Note: do not panic (or maybe do), this is only a small subset of the data you will be working with"
   ]
  },
  {
   "cell_type": "code",
   "execution_count": 10,
   "metadata": {},
   "outputs": [
    {
     "data": {
      "text/plain": [
       "<ErrorbarContainer object of 3 artists>"
      ]
     },
     "execution_count": 10,
     "metadata": {},
     "output_type": "execute_result"
    },
    {
     "data": {
      "image/png": "[encoded data removed]",
      "text/plain": [
       "<Figure size 432x288 with 1 Axes>"
      ]
     },
     "metadata": {
      "needs_background": "light"
     },
     "output_type": "display_data"
    }
   ],
   "source": [
    "#Measurements errors are also included, you can plot them as follows\n",
    "pylab.errorbar(lc[1].data['TIME'], lc[1].data['PDCSAP_FLUX'], lc[1].data['PDCSAP_FLUX_ERR'], ls='None', marker='o')\n",
    "#We'll need to zoom in to see them:"
   ]
  },
  {
   "cell_type": "markdown",
   "metadata": {},
   "source": [
    "## Your turn: First look at data - signal-to-noise\n",
    "\n",
    "$\\bullet$ calculate the signal to noise of your lightcurve. Compare it to your requested signal-to-noise. Compare it to your photometry from Chapter 2b\n",
    "\n",
    "$\\bullet$ make notes about your lightcurve: you will be fitting this for planets, do you see any complications?"
   ]
  },
  {
   "cell_type": "code",
   "execution_count": null,
   "metadata": {},
   "outputs": [],
   "source": []
  },
  {
   "cell_type": "markdown",
   "metadata": {},
   "source": [
    "## Your turn: First look at data - What does your lightcurve look like?\n",
    "\n",
    "$\\bullet$ make notes about your lightcurve: you will be fitting this for planets, do you see any complications?"
   ]
  },
  {
   "cell_type": "code",
   "execution_count": null,
   "metadata": {},
   "outputs": [],
   "source": []
  },
  {
   "cell_type": "markdown",
   "metadata": {},
   "source": [
    "## Your turn: Preparing for fitting:\n",
    "\n",
    "$\\bullet$ locate all transits and make a plot for each"
   ]
  },
  {
   "cell_type": "code",
   "execution_count": null,
   "metadata": {},
   "outputs": [],
   "source": []
  },
  {
   "cell_type": "code",
   "execution_count": 11,
   "metadata": {},
   "outputs": [
    {
     "data": {
      "text/plain": [
       "['Data/Object4lc/kplr4_7.fits',\n",
       " 'Data/Object4lc/kplr4_14.fits',\n",
       " 'Data/Object4lc/kplr4_15.fits',\n",
       " 'Data/Object4lc/kplr4_6.fits',\n",
       " 'Data/Object4lc/kplr4_1.fits',\n",
       " 'Data/Object4lc/kplr4_12.fits',\n",
       " 'Data/Object4lc/kplr4_13.fits',\n",
       " 'Data/Object4lc/kplr4_0.fits',\n",
       " 'Data/Object4lc/kplr4_10.fits',\n",
       " 'Data/Object4lc/kplr4_3.fits',\n",
       " 'Data/Object4lc/kplr4_2.fits',\n",
       " 'Data/Object4lc/kplr4_11.fits',\n",
       " 'Data/Object4lc/kplr4_16.fits',\n",
       " 'Data/Object4lc/kplr4_5.fits',\n",
       " 'Data/Object4lc/kplr4_9.fits',\n",
       " 'Data/Object4lc/kplr4_8.fits',\n",
       " 'Data/Object4lc/kplr4_4.fits',\n",
       " 'Data/Object4lc/kplr4_17.fits']"
      ]
     },
     "execution_count": 11,
     "metadata": {},
     "output_type": "execute_result"
    }
   ],
   "source": [
    "## So far, we have only looked at a subset of the data, the full dataset is stored in the Data folder.\n",
    "glob.glob('Data/Object%slc/kplr*.fits'%(mykepler)) #Lists all your lightcurve files\n"
   ]
  },
  {
   "cell_type": "code",
   "execution_count": null,
   "metadata": {},
   "outputs": [],
   "source": []
  },
  {
   "cell_type": "code",
   "execution_count": null,
   "metadata": {},
   "outputs": [],
   "source": []
  },
  {
   "cell_type": "code",
   "execution_count": null,
   "metadata": {},
   "outputs": [],
   "source": []
  },
  {
   "cell_type": "markdown",
   "metadata": {},
   "source": [
    "## Your turn: plot the full lightcurve"
   ]
  },
  {
   "cell_type": "code",
   "execution_count": 12,
   "metadata": {},
   "outputs": [
    {
     "data": {
      "image/png": "[encoded data removed]",
      "text/plain": [
       "<Figure size 432x288 with 1 Axes>"
      ]
     },
     "metadata": {
      "needs_background": "light"
     },
     "output_type": "display_data"
    }
   ],
   "source": [
    "#THis works....\n",
    "for lcfile in glob.glob('Data/Object%slc/kplr*.fits' %(mykepler)):\n",
    "    tmp = fits.open(lcfile)\n",
    "    tmptime = (tmp[1].data['TIME'])\n",
    "    tmpflux = (tmp[1].data['PDCSAP_FLUX'])\n",
    "    tmperror = (tmp[1].data['PDCSAP_FLUX_ERR'])\n",
    "    pylab.plot(tmptime, tmpflux, c='k')"
   ]
  },
  {
   "cell_type": "markdown",
   "metadata": {},
   "source": [
    "## Your turn: Planning for modelling - Make a plan\n",
    "\n",
    "$\\bullet$ Make a plan for modelling your lightcurve\n",
    "\n",
    "$\\bullet$ Which steps will you need to take? In what order? What tools will you need?\n",
    "\n",
    "$\\bullet$ It might be good to combine all your data into a single file."
   ]
  },
  {
   "cell_type": "code",
   "execution_count": null,
   "metadata": {},
   "outputs": [],
   "source": []
  },
  {
   "cell_type": "markdown",
   "metadata": {},
   "source": [
    "## Summary:\n",
    "\n",
    "After completing this notebook, you should have:\n",
    "\n",
    "- identified and inspected some individual transits\n",
    "- made a plan for modelling your data"
   ]
  },
  {
   "cell_type": "code",
   "execution_count": null,
   "metadata": {},
   "outputs": [],
   "source": []
  }
 ],
 "metadata": {
  "kernelspec": {
   "display_name": "Python 3",
   "language": "python",
   "name": "python3"
  },
  "language_info": {
   "codemirror_mode": {
    "name": "ipython",
    "version": 3
   },
   "file_extension": ".py",
   "mimetype": "text/x-python",
   "name": "python",
   "nbconvert_exporter": "python",
   "pygments_lexer": "ipython3",
   "version": "3.8.3"
  }
 },
 "nbformat": 4,
 "nbformat_minor": 2
}
