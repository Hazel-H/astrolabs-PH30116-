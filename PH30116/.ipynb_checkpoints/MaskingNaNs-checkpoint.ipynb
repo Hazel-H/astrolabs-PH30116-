{
 "cells": [
  {
   "cell_type": "markdown",
   "metadata": {},
   "source": [
    "# Masking invalid entries in numpy"
   ]
  },
  {
   "cell_type": "markdown",
   "metadata": {},
   "source": [
    "## Boolean masks\n",
    "\n",
    "To select certain parts of an array, or to get rid of NaN values in your arrays, we can use boolean masks. A boolean array is just an array of True or False values, and we can use this to select out certain values from an array."
   ]
  },
  {
   "cell_type": "code",
   "execution_count": 1,
   "metadata": {},
   "outputs": [],
   "source": [
    "import numpy "
   ]
  },
  {
   "cell_type": "markdown",
   "metadata": {},
   "source": [
    "We'll make ourselves two test arrays, which contain NaN (Not a Number) values:"
   ]
  },
  {
   "cell_type": "code",
   "execution_count": 2,
   "metadata": {},
   "outputs": [],
   "source": [
    "testarr = numpy.array([1,2,3,4,numpy.nan,6,7])"
   ]
  },
  {
   "cell_type": "code",
   "execution_count": 3,
   "metadata": {},
   "outputs": [
    {
     "data": {
      "text/plain": [
       "array([ 1.,  2.,  3.,  4., nan,  6.,  7.])"
      ]
     },
     "execution_count": 3,
     "metadata": {},
     "output_type": "execute_result"
    }
   ],
   "source": [
    "testarr #Print out the array"
   ]
  },
  {
   "cell_type": "code",
   "execution_count": 4,
   "metadata": {},
   "outputs": [],
   "source": [
    "testarr2 = numpy.array([2,4,6,numpy.nan,10,12,14])"
   ]
  },
  {
   "cell_type": "code",
   "execution_count": 5,
   "metadata": {},
   "outputs": [
    {
     "data": {
      "text/plain": [
       "array([ 2.,  4.,  6., nan, 10., 12., 14.])"
      ]
     },
     "execution_count": 5,
     "metadata": {},
     "output_type": "execute_result"
    }
   ],
   "source": [
    "testarr2 #Print out the array"
   ]
  },
  {
   "cell_type": "markdown",
   "metadata": {},
   "source": [
    "### Creating boolean masks\n",
    "We can create boolean masks of True and False values, for example selecting out values in testarr which are greater than 3, in the following way. \n",
    "\n",
    "nB you might get a warning message saying 'invalid value encountered in greater', don't worry about this, it's just because of the NaN value in there - as it's not a number, there's no sense in asking python whether it's greater or less than 3. It's like if I asked you if the letter 'a' was greater or less than 3, it doesn't make sense. The mask is still created, as you can see by running the next cell. "
   ]
  },
  {
   "cell_type": "code",
   "execution_count": 6,
   "metadata": {},
   "outputs": [
    {
     "name": "stderr",
     "output_type": "stream",
     "text": [
      "/home/be329/anaconda3/lib/python3.7/site-packages/ipykernel_launcher.py:1: RuntimeWarning: invalid value encountered in greater\n",
      "  \"\"\"Entry point for launching an IPython kernel.\n"
     ]
    }
   ],
   "source": [
    "mask = (testarr > 3)"
   ]
  },
  {
   "cell_type": "markdown",
   "metadata": {},
   "source": [
    "We can print out this 'mask' array - it's a list of True and False values, with True for the elements within testarr which meet our condition of being > 3, and False for those that don't. False is always returned for any NaN values, whether you set your condition to be either greater or less than a value."
   ]
  },
  {
   "cell_type": "code",
   "execution_count": 7,
   "metadata": {},
   "outputs": [
    {
     "name": "stdout",
     "output_type": "stream",
     "text": [
      "[False False False  True False  True  True]\n"
     ]
    }
   ],
   "source": [
    "print(mask)"
   ]
  },
  {
   "cell_type": "markdown",
   "metadata": {},
   "source": [
    "### Applying boolean masks\n",
    "\n",
    "So we now have a boolean mask - what next?\n",
    "\n",
    "Boolean masks are really useful for selecting out certain parts of an array - the way we do this is by using square brackets like in the cell below - i.e. array[mask] .\n",
    "\n",
    "Run the next cell, and you'll see that our mask has worked, only the values within testarr which are >3 have been returned."
   ]
  },
  {
   "cell_type": "code",
   "execution_count": 8,
   "metadata": {},
   "outputs": [
    {
     "data": {
      "text/plain": [
       "array([4., 6., 7.])"
      ]
     },
     "execution_count": 8,
     "metadata": {},
     "output_type": "execute_result"
    }
   ],
   "source": [
    "testarr[mask]"
   ]
  },
  {
   "cell_type": "markdown",
   "metadata": {},
   "source": [
    "We can apply the same mask to different arrays, which will come in handy for you when you have flux and time arrays from your data - if you have NaN values in your flux array, then you want to remove those elements, as well as the corresponding elements in the time array, or you'll end up in a mess where you have time values with no assigned flux value. \n",
    "\n",
    "\n",
    "We do this in exactly the same fashion as before, and we can see that it has selected the elements out of testarr2 which match the >3 values in testarr, i.e. the 4th, 6th and 7th element in the array."
   ]
  },
  {
   "cell_type": "code",
   "execution_count": 9,
   "metadata": {},
   "outputs": [
    {
     "data": {
      "text/plain": [
       "array([nan, 12., 14.])"
      ]
     },
     "execution_count": 9,
     "metadata": {},
     "output_type": "execute_result"
    }
   ],
   "source": [
    "testarr2[mask]"
   ]
  },
  {
   "cell_type": "markdown",
   "metadata": {},
   "source": [
    "## Getting rid of NaN values"
   ]
  },
  {
   "cell_type": "markdown",
   "metadata": {},
   "source": [
    "To get rid of NaN values in your array, numpy provides some handy functions:\n",
    "\n",
    "$\\textbf{numpy.isnan()}$ - If you give this function either a value, or an array, it will tell you which elements are NaN. \n",
    "\n",
    "For example:"
   ]
  },
  {
   "cell_type": "code",
   "execution_count": 10,
   "metadata": {},
   "outputs": [
    {
     "name": "stdout",
     "output_type": "stream",
     "text": [
      "False\n",
      "True\n",
      "[False False  True False  True False]\n"
     ]
    }
   ],
   "source": [
    "print(numpy.isnan(3)) #returns False\n",
    "print(numpy.isnan(numpy.nan)) #returns True\n",
    "print(numpy.isnan([1,2,numpy.nan, 3, numpy.nan, 4])) #returns an array of True and False"
   ]
  },
  {
   "cell_type": "markdown",
   "metadata": {},
   "source": [
    "$\\textbf{numpy.isfinite()}$ - This function basically does the opposite, but it'll also catch any infinite values. So for any integer or float values in your array, it'll return True, and for any NaN or infinite values, it'll return False.\n",
    "\n",
    "For example:"
   ]
  },
  {
   "cell_type": "code",
   "execution_count": 11,
   "metadata": {},
   "outputs": [
    {
     "name": "stdout",
     "output_type": "stream",
     "text": [
      "True\n",
      "False\n",
      "False\n",
      "[ True  True False  True False  True]\n"
     ]
    }
   ],
   "source": [
    "print(numpy.isfinite(4)) #returns True\n",
    "print(numpy.isfinite(numpy.inf))#returns False\n",
    "print(numpy.isfinite(numpy.nan)) #returns False\n",
    "print(numpy.isfinite([1,2,numpy.nan, 3, numpy.inf, 5])) #returns an array of True and False"
   ]
  },
  {
   "cell_type": "markdown",
   "metadata": {},
   "source": [
    "## Combining different masks\n",
    "\n",
    "Masks can be combined in a few different ways, using the AND operator (&), the OR operator (|) and the bitwise inverse operator (~), they works as follows:\n",
    "\n",
    "The AND operator checks if a value is True in both arrays:\n",
    " - If an element is True in one array, and the corresponding element in another array is also True, then the AND operator will return True.\n",
    " - If an element was True in one array, but the corresponding element in another array was False, then this operator would return False. \n",
    " - If the elements in both arrays were False, then the operator will return False. \n",
    " \n",
    " e.g. [True, False, False] & [True, True, False] = [True, False, False]\n",
    " \n",
    "------------------------------------------------------------------\n",
    "\n",
    "The OR operator will return True if the element in either array is True:\n",
    "\n",
    "e.g. [True, False, False] | [True, True, False] = [True, True, False]\n",
    "\n",
    "--------------------------------------------------------------------\n",
    "\n",
    "The bitwise inverse operator goes through each element and swaps it to the inverse - i.e. any True values become False, and any False values become True:\n",
    "\n",
    "e.g. ~[True, False, False] = [False, True, True]. \n",
    "\n",
    "This is handy for removing NaNs if you wanted to use numpy.isnan.\n",
    "\n",
    "------------------------------------------------------------------"
   ]
  },
  {
   "cell_type": "markdown",
   "metadata": {},
   "source": [
    "So, if we wanted to remove NaNs from both testarr and testarr2, we could do this in two ways:\n",
    "    \n",
    "First, we'll use np.isfinite:"
   ]
  },
  {
   "cell_type": "code",
   "execution_count": 12,
   "metadata": {},
   "outputs": [
    {
     "name": "stdout",
     "output_type": "stream",
     "text": [
      "[ True  True  True False False  True  True]\n",
      "[1. 2. 3. 6. 7.]\n",
      "[ 2.  4.  6. 12. 14.]\n"
     ]
    }
   ],
   "source": [
    "# Create a mask for each array\n",
    "mask_testarr = numpy.isfinite(testarr)\n",
    "mask_testarr2 = numpy.isfinite(testarr2)\n",
    "\n",
    "#Combine the masks - we want to use AND as we only want the values which are finite in both testarr and testarr2\n",
    "doublemask = mask_testarr & mask_testarr2\n",
    "\n",
    "#Print it out to check it looks right, and then test it out on the test arrays:\n",
    "print(doublemask)\n",
    "print(testarr[doublemask])\n",
    "print(testarr2[doublemask])"
   ]
  },
  {
   "cell_type": "markdown",
   "metadata": {},
   "source": [
    "It worked! Now we only have the values for which the element in testarr $\\textbf{and}$ the element in testarr2 are finite (i.e. not NaN).\n",
    "\n",
    "We could also use np.isnan to select out the values which are NaN, and then the bitwise inverse to flip the mask and select out the not-NaN values:"
   ]
  },
  {
   "cell_type": "code",
   "execution_count": 13,
   "metadata": {},
   "outputs": [
    {
     "name": "stdout",
     "output_type": "stream",
     "text": [
      "[False False False  True  True False False]\n",
      "[ True  True  True False False  True  True]\n",
      "[1. 2. 3. 6. 7.]\n",
      "[ 2.  4.  6. 12. 14.]\n"
     ]
    }
   ],
   "source": [
    "# Create masks which select out the values which are NaN\n",
    "mask_testarr= numpy.isnan(testarr)\n",
    "mask_testarr2 = numpy.isnan(testarr2)\n",
    "\n",
    "# Combine them - this time we want to use the OR operator, so we have True values \n",
    "# for if the element is NaN in either array:\n",
    "doublemask = mask_testarr | mask_testarr2\n",
    "print(doublemask) #This has True values for the positions which are NaN in either array\n",
    "\n",
    "#Now we want to invert it:\n",
    "doublemask = ~doublemask\n",
    "print(doublemask) ##This should look the same as the doublemask we had before\n",
    "\n",
    "# And apply it to the test arrays to check it works:\n",
    "print(testarr[doublemask])\n",
    "print(testarr2[doublemask])"
   ]
  },
  {
   "cell_type": "markdown",
   "metadata": {},
   "source": [
    "That works too! As a final note, we can create the masks in a bit of a neater way, using fewer lines of code, like this: "
   ]
  },
  {
   "cell_type": "code",
   "execution_count": 14,
   "metadata": {},
   "outputs": [
    {
     "name": "stdout",
     "output_type": "stream",
     "text": [
      "[ True  True  True False False  True  True]\n",
      "[1. 2. 3. 6. 7.]\n",
      "[ 2.  4.  6. 12. 14.]\n"
     ]
    }
   ],
   "source": [
    "# Using numpy.isfinite:\n",
    "nicemask = numpy.isfinite(testarr) & numpy.isfinite(testarr2)\n",
    "print(nicemask)\n",
    "print(testarr[nicemask])\n",
    "print(testarr2[nicemask])"
   ]
  },
  {
   "cell_type": "code",
   "execution_count": 15,
   "metadata": {},
   "outputs": [
    {
     "name": "stdout",
     "output_type": "stream",
     "text": [
      "[ True  True  True False False  True  True]\n",
      "[1. 2. 3. 6. 7.]\n",
      "[ 2.  4.  6. 12. 14.]\n"
     ]
    }
   ],
   "source": [
    "## Using numpy.isnan:\n",
    "nicemask = ~numpy.isnan(testarr) & ~numpy.isnan(testarr2)\n",
    "#Note that here we invert before we combine the masks, so we use the AND operator. \n",
    "print(nicemask)\n",
    "print(testarr[nicemask])\n",
    "print(testarr2[nicemask])"
   ]
  },
  {
   "cell_type": "markdown",
   "metadata": {},
   "source": [
    "You can use either numpy.isnan or numpy.isfinite for your work - personally I'd recommend numpy.isfinite, just because it's less confusing as you don't have to worry about inverting the array or whether you want to use AND or OR, it just selects the ones you do want, and you'll always use AND."
   ]
  },
  {
   "cell_type": "code",
   "execution_count": null,
   "metadata": {},
   "outputs": [],
   "source": []
  }
 ],
 "metadata": {
  "kernelspec": {
   "display_name": "Python 3",
   "language": "python",
   "name": "python3"
  },
  "language_info": {
   "codemirror_mode": {
    "name": "ipython",
    "version": 3
   },
   "file_extension": ".py",
   "mimetype": "text/x-python",
   "name": "python",
   "nbconvert_exporter": "python",
   "pygments_lexer": "ipython3",
   "version": "3.8.3"
  }
 },
 "nbformat": 4,
 "nbformat_minor": 2
}
