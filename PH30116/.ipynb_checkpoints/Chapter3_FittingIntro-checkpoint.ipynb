{
 "cells": [
  {
   "cell_type": "markdown",
   "metadata": {},
   "source": [
    "# Chapter 3: Introduction to fitting and model choices"
   ]
  },
  {
   "cell_type": "markdown",
   "metadata": {},
   "source": [
    "### This Notebook will lead you through exercises to explore fitting data:\n",
    "\n",
    "- learn how to perform least square minimization\n",
    "\n",
    "- learn how to choose between models with different free parameter\n",
    "\n",
    "- evaluate what level of model complexity is feasible\n",
    "\n",
    "Check the FittingIntro pdf and recording that also explains the concepts introduced here.\n",
    "\n",
    "### What's next:\n",
    "after you have completed this notebook:\n",
    "\n",
    "- model the dataset for your own science question\n",
    "\n",
    "- make sure to make notes on what issues covered here you need to consider when fitting your lightcurve\n",
    "\n",
    "- use the modelling toolbox to find relevant code"
   ]
  },
  {
   "cell_type": "markdown",
   "metadata": {},
   "source": [
    "### What is the purpose of fitting and modelling?\n",
    "\n",
    "In this notebook, we will consider the methods of fitting models to data, specifically, least square minimization. But before we go on to look into the detail, we will first consider why we are fitting data and therefore what choices should be made to ensure we are getting a reliable and meaningful answer.\n",
    "\n",
    "Have a look at the following xkcd comic:\n",
    "\n",
    "[How to choose your model](https://imgs.xkcd.com/comics/curve_fitting_2x.png)\n",
    "\n",
    "Discuss the comic.\n",
    "\n",
    "### Potential uses for fitting:\n",
    "\n",
    "- parameter estimation when the underlying mathematical form is known. Example, finding the velocity of an object moving at constant velocity, e.g.: x(t) = a*t + x_0\n",
    "\n",
    "- Model comparison. If the underlying physics are not known, determine which of several models fits the data best. Example: is a moving object accelarating or moving at constant velocity?\n",
    "\n",
    "- Testing a specific model: testing if a spevific model fits the data. Example: is the moving object accelarating?\n",
    "\n",
    "- Fit a discriptive model to data with unknown physics. Example: you have collected some new exiting data and would like to describe the data in a mathematical form.\n",
    "\n",
    "### Potential dangers:\n",
    "\n",
    "- Excessive complexity and overfitting: increasing the complexity of a model will result in an improvement in the fit. We will need to compensate for model complexity.\n",
    "\n",
    "- Fitting a model to data, but failing to determine if it fits better than other possible models.\n",
    "\n",
    "- Not reaching the global minimum: we will be varying the free parameters, this might not always lead to the best fit.\n",
    "\n",
    "A common joke is that for noisy datasets, \"you could fit an elephant to that data\". This generally refers to a situation in which any sensibly complex model will fit the data, therefore not allowing to test for any specific model. You can see [How to fit an elephant to data](https://demonstrations.wolfram.com/FittingAnElephant/) here."
   ]
  },
  {
   "cell_type": "code",
   "execution_count": 5,
   "metadata": {},
   "outputs": [],
   "source": [
    "#Necessary imports\n",
    "import numpy\n",
    "import pylab\n",
    "import LightCurveSimulator\n",
    "#We will be testing these fits on the lightcurve you know from the LightCurveSimu notebook.\n",
    "lc = LightCurveSimulator.ShortTransit()\n",
    "lc.add_noise(sn=500)"
   ]
  },
  {
   "cell_type": "markdown",
   "metadata": {},
   "source": [
    "### Goodness of fit: calculating $\\chi^2$\n",
    "\n",
    "We will be fitting a model to data, to determine how well a specific model fits, we can calculate $\\chi^2$ or goodness of fit as follows:\n",
    "\n",
    "$\\chi^2 = \\sum_{i} \\dfrac{(y_i - f(x_i))^2}{\\sigma_i^2}$\n",
    "\n",
    "where $x_i, y_i, \\sigma_i$ are the data and associated error and $f(x)$ is the model to evaulate. The smaller the $\\chi^2$ value, the smaller the \"distance\" between the model and data."
   ]
  },
  {
   "cell_type": "markdown",
   "metadata": {},
   "source": [
    "### Your turn - calculating $\\chi^2$ for a simple model.\n",
    "\n",
    "Below you see a the simply noisy transit lightcurve we will be fitting here.\n",
    "\n",
    "As a first step, write a function for a simple model in which there are the following free parameters:\n",
    "\n",
    "- a baseline flux\n",
    "- a flux during transit\n",
    "- a transit start time\n",
    "- a transit end time\n",
    "\n",
    "You can get the time, flux and errors as follows:"
   ]
  },
  {
   "cell_type": "raw",
   "metadata": {},
   "source": [
    "t, flux, error = lc.getdata()"
   ]
  },
  {
   "cell_type": "code",
   "execution_count": 8,
   "metadata": {},
   "outputs": [
    {
     "data": {
      "image/png": "[encoded data removed]",
      "text/plain": [
       "<Figure size 432x288 with 1 Axes>"
      ]
     },
     "metadata": {
      "needs_background": "light"
     },
     "output_type": "display_data"
    }
   ],
   "source": [
    "lc.plotlc_error()"
   ]
  },
  {
   "cell_type": "markdown",
   "metadata": {},
   "source": [
    "#### Your turn: Define a function for the model described above:"
   ]
  },
  {
   "cell_type": "code",
   "execution_count": null,
   "metadata": {},
   "outputs": [],
   "source": []
  },
  {
   "cell_type": "markdown",
   "metadata": {},
   "source": [
    "#### Your turn: calculate the $\\chi^2$ for the model"
   ]
  },
  {
   "cell_type": "code",
   "execution_count": null,
   "metadata": {},
   "outputs": [],
   "source": []
  },
  {
   "cell_type": "markdown",
   "metadata": {},
   "source": [
    "### $\\chi^2$ minimization\n",
    "\n",
    "You have now calculated the $\\chi^2$ for a specific instance of the model. However, we are trying to minimize the $\\chi^2$ to get the best fit. This is done through minization algorithms that vary input parameters to rech the minimum. We can fit the model above as follows ([full documentation here](https://docs.scipy.org/doc/scipy/reference/generated/scipy.optimize.minimize.html)):"
   ]
  },
  {
   "cell_type": "code",
   "execution_count": null,
   "metadata": {},
   "outputs": [],
   "source": [
    "from scipy.optimize import minimize # import the minimization function"
   ]
  },
  {
   "cell_type": "raw",
   "metadata": {},
   "source": [
    "scipy.optimize.minimize(func, guess)"
   ]
  },
  {
   "cell_type": "markdown",
   "metadata": {},
   "source": [
    "where func is the chi-square function and guess the initial guess."
   ]
  },
  {
   "cell_type": "markdown",
   "metadata": {},
   "source": [
    "### Your turn: fit your example lightcurve using the simple model above\n",
    "\n",
    "- plot the best fit over your data\n",
    "- you can rerun the fit at higher and lower signal-to-noise and see how the errors change\n",
    "- try fitting the data with unrelistic starting values"
   ]
  },
  {
   "cell_type": "code",
   "execution_count": null,
   "metadata": {},
   "outputs": [],
   "source": []
  },
  {
   "cell_type": "markdown",
   "metadata": {},
   "source": [
    "### Your turn: Residuals\n",
    "\n",
    "Residuals can be useful for assessing a fit. Try plotting the difference between model and data, are there any regions that are poorly fit?"
   ]
  },
  {
   "cell_type": "code",
   "execution_count": null,
   "metadata": {},
   "outputs": [],
   "source": []
  },
  {
   "cell_type": "markdown",
   "metadata": {},
   "source": [
    "### Danger: local minima \n",
    "\n",
    "It is important to inspect your fitting results carefully, you might heva reacherd a localk minimum that only poorly fits the data."
   ]
  },
  {
   "cell_type": "markdown",
   "metadata": {},
   "source": [
    "## Model comparison\n",
    "\n",
    "In many cases, we might have several models, for example, we could have different models for the shape of the transit. Alternatively, we might have a model with a range of different free parameters. We will need to compare these different models.\n",
    "\n",
    "### Your turn: Testing model comparison\n",
    "\n",
    "Fit the following models to the lightcurve:\n",
    "\n",
    "- a straight line\n",
    "- the step model\n",
    "- a >6th order polynamial (play around to see what works, you can use [numpy.polyfit](https://docs.scipy.org/doc/numpy/reference/generated/numpy.polyfit.html))\n",
    "\n",
    "Note down the $\\chi^2$ values. Which provides the best fit according to the $\\chi^2$? Which do you think is the best fit? "
   ]
  },
  {
   "cell_type": "markdown",
   "metadata": {},
   "source": [
    "## Goodness-of-fit and degrees of freedom\n",
    "\n",
    "As you see increasing the complexity of the model leads to a better fits, but this can be due to the fact that your simply allowing too many free parameters. To compare different models, we can use the reduced $\\chi^2$ For thise we need the degree of freedom $\\nu$, this is the number of data points minus number of free paramaters in the fit - 1:\n",
    "\n",
    "$\\chi_{red} = \\dfrac{\\chi^2}{\\nu-n_{param}-1}$\n",
    "\n",
    "Compare the reduced $chi^2$, which is the best parameters."
   ]
  },
  {
   "cell_type": "code",
   "execution_count": null,
   "metadata": {},
   "outputs": [],
   "source": []
  },
  {
   "cell_type": "markdown",
   "metadata": {},
   "source": [
    "## Summary:\n",
    "\n",
    "After completing this notebook, you should have:\n",
    "\n",
    "- applied your knowledge on fitting and model comparison"
   ]
  },
  {
   "cell_type": "code",
   "execution_count": null,
   "metadata": {},
   "outputs": [],
   "source": []
  }
 ],
 "metadata": {
  "kernelspec": {
   "display_name": "Python 3",
   "language": "python",
   "name": "python3"
  },
  "language_info": {
   "codemirror_mode": {
    "name": "ipython",
    "version": 3
   },
   "file_extension": ".py",
   "mimetype": "text/x-python",
   "name": "python",
   "nbconvert_exporter": "python",
   "pygments_lexer": "ipython3",
   "version": "3.8.3"
  }
 },
 "nbformat": 4,
 "nbformat_minor": 2
}
