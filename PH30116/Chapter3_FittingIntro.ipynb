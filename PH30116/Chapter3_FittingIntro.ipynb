{
 "cells": [
  {
   "cell_type": "markdown",
   "metadata": {},
   "source": [
    "# Chapter 3: Introduction to fitting and model choices"
   ]
  },
  {
   "cell_type": "markdown",
   "metadata": {},
   "source": [
    "### This Notebook will lead you through exercises to explore fitting data:\n",
    "\n",
    "- learn how to perform least square minimization\n",
    "\n",
    "- learn how to choose between models with different free parameter\n",
    "\n",
    "- evaluate what level of model complexity is feasible\n",
    "\n",
    "Check the FittingIntro pdf and recording that also explains the concepts introduced here.\n",
    "\n",
    "### What's next:\n",
    "after you have completed this notebook:\n",
    "\n",
    "- model the dataset for your own science question\n",
    "\n",
    "- make sure to make notes on what issues covered here you need to consider when fitting your lightcurve\n",
    "\n",
    "- use the modelling toolbox to find relevant code"
   ]
  },
  {
   "cell_type": "markdown",
   "metadata": {},
   "source": [
    "### What is the purpose of fitting and modelling?\n",
    "\n",
    "In this notebook, we will consider the methods of fitting models to data, specifically, least square minimization. But before we go on to look into the detail, we will first consider why we are fitting data and therefore what choices should be made to ensure we are getting a reliable and meaningful answer.\n",
    "\n",
    "Have a look at the following xkcd comic:\n",
    "\n",
    "[How to choose your model](https://imgs.xkcd.com/comics/curve_fitting_2x.png)\n",
    "\n",
    "Discuss the comic.\n",
    "\n",
    "### Potential uses for fitting:\n",
    "\n",
    "- parameter estimation when the underlying mathematical form is known. Example, finding the velocity of an object moving at constant velocity, e.g.: x(t) = a*t + x_0\n",
    "\n",
    "- Model comparison. If the underlying physics are not known, determine which of several models fits the data best. Example: is a moving object accelarating or moving at constant velocity?\n",
    "\n",
    "- Testing a specific model: testing if a spevific model fits the data. Example: is the moving object accelarating?\n",
    "\n",
    "- Fit a discriptive model to data with unknown physics. Example: you have collected some new exiting data and would like to describe the data in a mathematical form.\n",
    "\n",
    "### Potential dangers:\n",
    "\n",
    "- Excessive complexity and overfitting: increasing the complexity of a model will result in an improvement in the fit. We will need to compensate for model complexity.\n",
    "\n",
    "- Fitting a model to data, but failing to determine if it fits better than other possible models.\n",
    "\n",
    "- Not reaching the global minimum: we will be varying the free parameters, this might not always lead to the best fit.\n",
    "\n",
    "A common joke is that for noisy datasets, \"you could fit an elephant to that data\". This generally refers to a situation in which any sensibly complex model will fit the data, therefore not allowing to test for any specific model. You can see [How to fit an elephant to data](https://demonstrations.wolfram.com/FittingAnElephant/) here."
   ]
  },
  {
   "cell_type": "code",
   "execution_count": 30,
   "metadata": {},
   "outputs": [],
   "source": [
    "#Necessary imports\n",
    "import numpy\n",
    "import pylab\n",
    "import LightCurveSimulator\n",
    "#We will be testing these fits on the lightcurve you know from the LightCurveSimu notebook.\n",
    "lc = LightCurveSimulator.ShortTransit()\n",
    "lc.add_noise(sn=500)\n",
    "import scipy.optimize\n",
    "from scipy import interpolate\n",
    "from scipy.optimize import curve_fit"
   ]
  },
  {
   "cell_type": "markdown",
   "metadata": {},
   "source": [
    "### Goodness of fit: calculating $\\chi^2$\n",
    "\n",
    "We will be fitting a model to data, to determine how well a specific model fits, we can calculate $\\chi^2$ or goodness of fit as follows:\n",
    "\n",
    "$\\chi^2 = \\sum_{i} \\dfrac{(y_i - f(x_i))^2}{\\sigma_i^2}$\n",
    "\n",
    "where $x_i, y_i, \\sigma_i$ are the data and associated error and $f(x)$ is the model to evaulate. The smaller the $\\chi^2$ value, the smaller the \"distance\" between the model and data."
   ]
  },
  {
   "cell_type": "markdown",
   "metadata": {},
   "source": [
    "### Your turn - calculating $\\chi^2$ for a simple model.\n",
    "\n",
    "Below you see a the simply noisy transit lightcurve we will be fitting here.\n",
    "\n",
    "As a first step, write a function for a simple model in which there are the following free parameters:\n",
    "\n",
    "- a baseline flux\n",
    "- a flux during transit\n",
    "- a transit start time\n",
    "- a transit end time\n",
    "\n",
    "You can get the time, flux and errors as follows:"
   ]
  },
  {
   "cell_type": "raw",
   "metadata": {},
   "source": [
    "t, flux, error = lc.getdata()"
   ]
  },
  {
   "cell_type": "code",
   "execution_count": 4,
   "metadata": {},
   "outputs": [],
   "source": [
    "flux = lc.getdata()[1]\n",
    "time = lc.getdata()[0]\n",
    "error =lc.getdata()[2]"
   ]
  },
  {
   "cell_type": "code",
   "execution_count": 5,
   "metadata": {},
   "outputs": [
    {
     "data": {
      "image/png": "[encoded data removed]",
      "text/plain": [
       "<Figure size 432x288 with 1 Axes>"
      ]
     },
     "metadata": {
      "needs_background": "light"
     },
     "output_type": "display_data"
    }
   ],
   "source": [
    "lc.plotlc_error()"
   ]
  },
  {
   "cell_type": "markdown",
   "metadata": {},
   "source": [
    "#### Your turn: Define a function for the model described above:"
   ]
  },
  {
   "cell_type": "code",
   "execution_count": 13,
   "metadata": {},
   "outputs": [],
   "source": [
    "import pandas as pd\n",
    "\n",
    "df = pd.DataFrame({'Time':time, 'Flux':flux, 'Uncertainty':error})\n",
    "def lightcurve1(time, flux_transit, transit_start, transit_end):\n",
    "    model_flux = []\n",
    "    for value in df['Time']:\n",
    "        if (value < transit_end) and (value > transit_start):\n",
    "            model_flux.append(flux_transit)\n",
    "        else: \n",
    "            model_flux.append(1)\n",
    "    df['Model Flux']= model_flux\n",
    "    \n",
    "    pylab.plot(df['Time'], df['Flux'])\n",
    "    pylab.plot(df['Time'],df['Model Flux'])\n",
    "    return(df.head())"
   ]
  },
  {
   "cell_type": "code",
   "execution_count": 14,
   "metadata": {},
   "outputs": [
    {
     "data": {
      "text/html": [
       "<div>\n",
       "<style scoped>\n",
       "    .dataframe tbody tr th:only-of-type {\n",
       "        vertical-align: middle;\n",
       "    }\n",
       "\n",
       "    .dataframe tbody tr th {\n",
       "        vertical-align: top;\n",
       "    }\n",
       "\n",
       "    .dataframe thead th {\n",
       "        text-align: right;\n",
       "    }\n",
       "</style>\n",
       "<table border=\"1\" class=\"dataframe\">\n",
       "  <thead>\n",
       "    <tr style=\"text-align: right;\">\n",
       "      <th></th>\n",
       "      <th>Time</th>\n",
       "      <th>Flux</th>\n",
       "      <th>Uncertainty</th>\n",
       "      <th>Model Flux</th>\n",
       "    </tr>\n",
       "  </thead>\n",
       "  <tbody>\n",
       "    <tr>\n",
       "      <th>0</th>\n",
       "      <td>-0.124653</td>\n",
       "      <td>1.000973</td>\n",
       "      <td>0.002002</td>\n",
       "      <td>1.0</td>\n",
       "    </tr>\n",
       "    <tr>\n",
       "      <th>1</th>\n",
       "      <td>-0.123958</td>\n",
       "      <td>0.998761</td>\n",
       "      <td>0.001998</td>\n",
       "      <td>1.0</td>\n",
       "    </tr>\n",
       "    <tr>\n",
       "      <th>2</th>\n",
       "      <td>-0.123264</td>\n",
       "      <td>1.001727</td>\n",
       "      <td>0.002003</td>\n",
       "      <td>1.0</td>\n",
       "    </tr>\n",
       "    <tr>\n",
       "      <th>3</th>\n",
       "      <td>-0.122569</td>\n",
       "      <td>1.000710</td>\n",
       "      <td>0.002001</td>\n",
       "      <td>1.0</td>\n",
       "    </tr>\n",
       "    <tr>\n",
       "      <th>4</th>\n",
       "      <td>-0.121875</td>\n",
       "      <td>0.995960</td>\n",
       "      <td>0.001992</td>\n",
       "      <td>1.0</td>\n",
       "    </tr>\n",
       "  </tbody>\n",
       "</table>\n",
       "</div>"
      ],
      "text/plain": [
       "       Time      Flux  Uncertainty  Model Flux\n",
       "0 -0.124653  1.000973     0.002002         1.0\n",
       "1 -0.123958  0.998761     0.001998         1.0\n",
       "2 -0.123264  1.001727     0.002003         1.0\n",
       "3 -0.122569  1.000710     0.002001         1.0\n",
       "4 -0.121875  0.995960     0.001992         1.0"
      ]
     },
     "execution_count": 14,
     "metadata": {},
     "output_type": "execute_result"
    },
    {
     "data": {
      "image/png": "[encoded data removed]",
      "text/plain": [
       "<Figure size 432x288 with 1 Axes>"
      ]
     },
     "metadata": {
      "needs_background": "light"
     },
     "output_type": "display_data"
    }
   ],
   "source": [
    "lightcurve1(1,0.983,-0.05,0.05)"
   ]
  },
  {
   "cell_type": "code",
   "execution_count": 43,
   "metadata": {},
   "outputs": [],
   "source": []
  },
  {
   "cell_type": "code",
   "execution_count": null,
   "metadata": {},
   "outputs": [],
   "source": []
  },
  {
   "cell_type": "code",
   "execution_count": 51,
   "metadata": {},
   "outputs": [],
   "source": [
    "def lightcurve_model(t, base_flux, transit_flux, t_start, t_end):\n",
    "    y=numpy.ones(len(t))\n",
    "    for i in range(0,len(t)):\n",
    "        if (t[i] > t_start) and (t[i] < t_end):\n",
    "            y[i] = transit_flux\n",
    "        else: \n",
    "            y[i] = base_flux\n",
    "    return y "
   ]
  },
  {
   "cell_type": "code",
   "execution_count": 52,
   "metadata": {},
   "outputs": [
    {
     "data": {
      "text/plain": [
       "[<matplotlib.lines.Line2D at 0x7f1936bcc700>]"
      ]
     },
     "execution_count": 52,
     "metadata": {},
     "output_type": "execute_result"
    },
    {
     "data": {
      "image/png": "[encoded data removed]",
      "text/plain": [
       "<Figure size 432x288 with 1 Axes>"
      ]
     },
     "metadata": {
      "needs_background": "light"
     },
     "output_type": "display_data"
    }
   ],
   "source": [
    "model_y = lightcurve_model(time, 1, 0.9853, -0.05, 0.05)\n",
    "pylab.plot(time, flux)\n",
    "pylab.plot(time, model_y, lw='3')"
   ]
  },
  {
   "cell_type": "code",
   "execution_count": 60,
   "metadata": {},
   "outputs": [],
   "source": [
    "popt, pcov = curve_fit(lightcurve_model, time, flux, sigma=error, p0=[1, 0.9, -0.05, 0.05])"
   ]
  },
  {
   "cell_type": "code",
   "execution_count": 61,
   "metadata": {},
   "outputs": [
    {
     "data": {
      "text/plain": [
       "array([ 0.99951398,  0.98532171, -0.05      ,  0.05      ])"
      ]
     },
     "execution_count": 61,
     "metadata": {},
     "output_type": "execute_result"
    }
   ],
   "source": [
    "popt"
   ]
  },
  {
   "cell_type": "code",
   "execution_count": 62,
   "metadata": {},
   "outputs": [
    {
     "data": {
      "text/plain": [
       "array([[inf, inf, inf, inf],\n",
       "       [inf, inf, inf, inf],\n",
       "       [inf, inf, inf, inf],\n",
       "       [inf, inf, inf, inf]])"
      ]
     },
     "execution_count": 62,
     "metadata": {},
     "output_type": "execute_result"
    }
   ],
   "source": [
    "pcov"
   ]
  },
  {
   "cell_type": "code",
   "execution_count": null,
   "metadata": {},
   "outputs": [],
   "source": []
  },
  {
   "cell_type": "code",
   "execution_count": null,
   "metadata": {},
   "outputs": [],
   "source": []
  },
  {
   "cell_type": "code",
   "execution_count": null,
   "metadata": {},
   "outputs": [],
   "source": []
  },
  {
   "cell_type": "code",
   "execution_count": null,
   "metadata": {},
   "outputs": [],
   "source": [
    "from scipy import interpolate\n",
    "from scipy.optimize import curve_fit"
   ]
  },
  {
   "cell_type": "code",
   "execution_count": null,
   "metadata": {},
   "outputs": [],
   "source": [
    "x = df['Time']\n",
    "y = df['Flux']\n",
    "error = df['Uncertainty']\n",
    "pylab.plot(x,y)"
   ]
  },
  {
   "cell_type": "code",
   "execution_count": null,
   "metadata": {},
   "outputs": [],
   "source": [
    "coeffs = numpy.polyfit(x,y,deg=10)\n",
    "print(coeffs)"
   ]
  },
  {
   "cell_type": "code",
   "execution_count": null,
   "metadata": {},
   "outputs": [],
   "source": [
    "poly = numpy.poly1d(coeffs)\n",
    "y_new = poly(x)"
   ]
  },
  {
   "cell_type": "code",
   "execution_count": null,
   "metadata": {},
   "outputs": [],
   "source": [
    "print(poly)"
   ]
  },
  {
   "cell_type": "code",
   "execution_count": null,
   "metadata": {},
   "outputs": [],
   "source": [
    "pylab.plot(x,y_new)\n",
    "pylab.plot(x,y)\n",
    "min(y_new)"
   ]
  },
  {
   "cell_type": "code",
   "execution_count": null,
   "metadata": {},
   "outputs": [],
   "source": [
    "lightcurve1(1,0.983,-0.05,0.05)"
   ]
  },
  {
   "cell_type": "code",
   "execution_count": null,
   "metadata": {},
   "outputs": [],
   "source": [
    "def func(x, a, b, c):\n",
    "    return a * numpy.exp(-b * x) + c"
   ]
  },
  {
   "cell_type": "code",
   "execution_count": null,
   "metadata": {},
   "outputs": [],
   "source": [
    "def new_func(x, a, b, c, d, e, f): \n",
    "    t_start = -0.05\n",
    "    t_end = 0.05\n",
    "    t_mid = (t_start + t_end)/2\n",
    "    for value in x: \n",
    "        if (x < t_start):\n",
    "            return 1 \n",
    "        elif (x > t_start) and (x < t_mid): \n",
    "            return a * numpy.exp(-b * x) + c\n",
    "        elif (x > t_mid) and (x < t_end):\n",
    "            return d* numpy.exp(-e * x) + f\n",
    "        else: \n",
    "            return 1"
   ]
  },
  {
   "cell_type": "code",
   "execution_count": null,
   "metadata": {},
   "outputs": [],
   "source": []
  },
  {
   "cell_type": "code",
   "execution_count": null,
   "metadata": {},
   "outputs": [],
   "source": []
  },
  {
   "cell_type": "code",
   "execution_count": null,
   "metadata": {},
   "outputs": [],
   "source": [
    "pylab.plot(x,y)\n",
    "pylab.plot(x, func(x, *popt), 'g--',label='fit: a=%5.3f, b=%5.3f, c=%5.3f' % tuple(popt))"
   ]
  },
  {
   "cell_type": "code",
   "execution_count": null,
   "metadata": {},
   "outputs": [],
   "source": [
    "#optimization of function \n"
   ]
  },
  {
   "cell_type": "code",
   "execution_count": null,
   "metadata": {},
   "outputs": [],
   "source": [
    "x = df['Time']\n",
    "y = df['Flux']\n",
    "error = df['Uncertainty']\n",
    "pylab.plot(x,y)"
   ]
  },
  {
   "cell_type": "code",
   "execution_count": null,
   "metadata": {},
   "outputs": [],
   "source": []
  },
  {
   "cell_type": "code",
   "execution_count": null,
   "metadata": {},
   "outputs": [],
   "source": [
    "mask = (x > -0.06) & (x< 0.06)\n",
    "x_new = x[mask]\n",
    "y_new = y[mask]\n",
    "pylab.plot(x_new,y_new)"
   ]
  },
  {
   "cell_type": "code",
   "execution_count": null,
   "metadata": {},
   "outputs": [],
   "source": [
    "#popt, pcov = curve_fit(func, x_new, y_new)\n",
    "#pylab.plot(x_new,y_new)\n",
    "#pylab.plot(x_new, func(x_new, *popt), 'r--',label='fit: a=%5.3f, b=%5.3f, c=%5.3f, d=%5.3f, e=%5.3f' % tuple(popt))"
   ]
  },
  {
   "cell_type": "code",
   "execution_count": null,
   "metadata": {},
   "outputs": [],
   "source": []
  },
  {
   "cell_type": "markdown",
   "metadata": {},
   "source": [
    "#### Your turn: calculate the $\\chi^2$ for the model"
   ]
  },
  {
   "cell_type": "code",
   "execution_count": null,
   "metadata": {},
   "outputs": [],
   "source": [
    "total = 0 \n",
    "for i in range(0,len(df)):\n",
    "    k = ((df['Flux'][i]-df['Model Flux'][i])**2)/(df['Uncertainty'][i]**2)\n",
    "    total = total + k \n",
    "print(total)"
   ]
  },
  {
   "cell_type": "markdown",
   "metadata": {},
   "source": [
    "### $\\chi^2$ minimization\n",
    "\n",
    "You have now calculated the $\\chi^2$ for a specific instance of the model. However, we are trying to minimize the $\\chi^2$ to get the best fit. This is done through minization algorithms that vary input parameters to rech the minimum. We can fit the model above as follows ([full documentation here](https://docs.scipy.org/doc/scipy/reference/generated/scipy.optimize.minimize.html)):"
   ]
  },
  {
   "cell_type": "code",
   "execution_count": null,
   "metadata": {},
   "outputs": [],
   "source": [
    "from scipy.optimize import minimize # import the minimization function"
   ]
  },
  {
   "cell_type": "raw",
   "metadata": {},
   "source": [
    "scipy.optimize.minimize(func, guess)"
   ]
  },
  {
   "cell_type": "markdown",
   "metadata": {},
   "source": [
    "where func is the chi-square function and guess the initial guess."
   ]
  },
  {
   "cell_type": "markdown",
   "metadata": {},
   "source": [
    "### Your turn: fit your example lightcurve using the simple model above\n",
    "\n",
    "- plot the best fit over your data\n",
    "- you can rerun the fit at higher and lower signal-to-noise and see how the errors change\n",
    "- try fitting the data with unrelistic starting values"
   ]
  },
  {
   "cell_type": "code",
   "execution_count": null,
   "metadata": {},
   "outputs": [],
   "source": []
  },
  {
   "cell_type": "markdown",
   "metadata": {},
   "source": [
    "### Your turn: Residuals\n",
    "\n",
    "Residuals can be useful for assessing a fit. Try plotting the difference between model and data, are there any regions that are poorly fit?"
   ]
  },
  {
   "cell_type": "code",
   "execution_count": null,
   "metadata": {},
   "outputs": [],
   "source": []
  },
  {
   "cell_type": "markdown",
   "metadata": {},
   "source": [
    "### Danger: local minima \n",
    "\n",
    "It is important to inspect your fitting results carefully, you might heva reacherd a localk minimum that only poorly fits the data."
   ]
  },
  {
   "cell_type": "markdown",
   "metadata": {},
   "source": [
    "## Model comparison\n",
    "\n",
    "In many cases, we might have several models, for example, we could have different models for the shape of the transit. Alternatively, we might have a model with a range of different free parameters. We will need to compare these different models.\n",
    "\n",
    "### Your turn: Testing model comparison\n",
    "\n",
    "Fit the following models to the lightcurve:\n",
    "\n",
    "- a straight line\n",
    "- the step model\n",
    "- a >6th order polynamial (play around to see what works, you can use [numpy.polyfit](https://docs.scipy.org/doc/numpy/reference/generated/numpy.polyfit.html))\n",
    "\n",
    "Note down the $\\chi^2$ values. Which provides the best fit according to the $\\chi^2$? Which do you think is the best fit? "
   ]
  },
  {
   "cell_type": "markdown",
   "metadata": {},
   "source": [
    "## Goodness-of-fit and degrees of freedom\n",
    "\n",
    "As you see increasing the complexity of the model leads to a better fits, but this can be due to the fact that your simply allowing too many free parameters. To compare different models, we can use the reduced $\\chi^2$ For thise we need the degree of freedom $\\nu$, this is the number of data points minus number of free paramaters in the fit - 1:\n",
    "\n",
    "$\\chi_{red} = \\dfrac{\\chi^2}{\\nu-n_{param}-1}$\n",
    "\n",
    "Compare the reduced $chi^2$, which is the best parameters."
   ]
  },
  {
   "cell_type": "code",
   "execution_count": null,
   "metadata": {},
   "outputs": [],
   "source": []
  },
  {
   "cell_type": "markdown",
   "metadata": {},
   "source": [
    "## Summary:\n",
    "\n",
    "After completing this notebook, you should have:\n",
    "\n",
    "- applied your knowledge on fitting and model comparison"
   ]
  },
  {
   "cell_type": "code",
   "execution_count": null,
   "metadata": {},
   "outputs": [],
   "source": []
  }
 ],
 "metadata": {
  "kernelspec": {
   "display_name": "Python 3",
   "language": "python",
   "name": "python3"
  },
  "language_info": {
   "codemirror_mode": {
    "name": "ipython",
    "version": 3
   },
   "file_extension": ".py",
   "mimetype": "text/x-python",
   "name": "python",
   "nbconvert_exporter": "python",
   "pygments_lexer": "ipython3",
   "version": "3.8.3"
  }
 },
 "nbformat": 4,
 "nbformat_minor": 2
}
